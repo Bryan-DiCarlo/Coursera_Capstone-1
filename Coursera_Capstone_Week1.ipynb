{
 "cells": [
  {
   "cell_type": "markdown",
   "metadata": {},
   "source": [
    "## Intoduction"
   ]
  },
  {
   "cell_type": "markdown",
   "metadata": {},
   "source": [
    "Peer to peer lending, or P2P lending, is a relatively new paradigm in lending when compared to traditional bank loans.  Peer to peer lending is the practice of lending money to individuals or businesses through an online service that matches borrowers with lenders. In general, P2P lending services operate as online businesses thus having lower overhead can offer lower rates to their customers and lenders can earn higher returns.  Unlike traditional bank loans many P2P loans are unsecured.  There is of course a risk of borrowers defaulting on these unsecured loans.  P2P lending services do not actually lend money themselves.  They operate as a matching service for borrowers who would like to secure a loan and lenders who have the money to lend.  However as one can imagine the key to the success of a P2P lending service is attracting enough lenders to serve the number of customers needing to borrow money.  P2P borrowers undergo regular credit checks and other credit “worthiness” evaluations prior to receiving a loan.  However, the requirements are often less stringent than would be in securing a loan from a traditional bank and as mentioned previously and the loans are often unsecured.  There are many lenders willing to loan money under these arrangements as their returns are often higher.  However, demand for loans is still generally higher greater than lenders.  A key to business success for a P2P lending service is to attract enough lenders to service their customers.  One crucial way to do this is accurately predict loan defaults.  P2P lending services can more readily attract lenders if they can be confident that the loan will be repaid.  As a private Data Science consultant, I will analyze publicly available loan data from LendingClub.com.  One of the first ever P2P lending companies.  I will use several Machine Learning techniques including the Random Forest Classifier Algorithm to predict loan repayment based on customer profile data.  With this analysis I hope to obtain useful loan repayment data that can be used by other P2P lending services to attract lenders.  Which is of key importance to any P2P lending service."
   ]
  },
  {
   "cell_type": "markdown",
   "metadata": {},
   "source": [
    "## The Data"
   ]
  },
  {
   "cell_type": "markdown",
   "metadata": {},
   "source": [
    "The data to be analyzed is publicly available data from LendingClub.com a popular P2P service.  P2P lenders are interested in borrowers whose profile indicates a high probability of paying you back. P2P services ae interesting in attracting lenders.  I will try to create a model which accurately predicts whether a customer will repay their loan based on customer profile attributes.  This information will ultimately be useful to both the lender and the P2P services trying to attract lenders.\n",
    "\n",
    "The lending data will be used to classify and predict whether the borrower paid back their loan in full. The following lists the attributes of the data set.  I will do some exploratory data analysis and feature selection to determine the indicators best suited to the model.  I will use the Random Forest Classifier method.  As we are trying to determine one target variable, if the loan was repaid or not, from several other predictor features I think it is a good choice.\n",
    "Here are what the columns represent:\n",
    "\n",
    "Here are what the columns in the Data Set represent:\n",
    "* credit.policy: 1 if the customer meets the credit underwriting criteria of LendingClub.com, and 0 otherwise.\n",
    "* purpose: The purpose of the loan (takes values \"credit_card\", \"debt_consolidation\", \"educational\", \"major_purchase\", \"small_business\", and \"all_other\").\n",
    "* int.rate: The interest rate of the loan, as a proportion (a rate of 11% would be stored as 0.11). Borrowers judged by LendingClub.com to be more risky are assigned higher interest rates.\n",
    "* installment: The monthly installments owed by the borrower if the loan is funded.\n",
    "* log.annual.inc: The natural log of the self-reported annual income of the borrower.\n",
    "* dti: The debt-to-income ratio of the borrower (amount of debt divided by annual income).\n",
    "* fico: The FICO credit score of the borrower.\n",
    "* days.with.cr.line: The number of days the borrower has had a credit line.\n",
    "* revol.bal: The borrower's revolving balance (amount unpaid at the end of the credit card billing cycle).\n",
    "* revol.util: The borrower's revolving line utilization rate (the amount of the credit line used relative to total credit available).\n",
    "* inq.last.6mths: The borrower's number of inquiries by creditors in the last 6 months.\n",
    "* delinq.2yrs: The number of times the borrower had been 30+ days past due on a payment in the past 2 years.\n",
    "* pub.rec: The borrower's number of derogatory public records (bankruptcy filings, tax liens, or judgments)."
   ]
  },
  {
   "cell_type": "markdown",
   "metadata": {},
   "source": [
    "## Methodology"
   ]
  },
  {
   "cell_type": "markdown",
   "metadata": {},
   "source": [
    "The data set will be read into a pandas data frame for exploratory data analysis and feature selection.  The data will be plotted and analyzed using Matplotlib and seaborn to determine which variable in the data set have the highest predictive potential for our target variable.  Which is loan repayment.  The data will then be prepared for our analysis using the Random Forest classifier method.  Categorical variable will be changed to dummy variables where needed to perform our analysis.  A Decision Tree analysis will also be performed in addition to our Random Forest Model.  With this we can determine which model performs better.  It is also my hope that by performing both models we will get results that are similar in performance.  This will lend some validation that that our models were on track and the results are dependable."
   ]
  },
  {
   "cell_type": "code",
   "execution_count": null,
   "metadata": {},
   "outputs": [],
   "source": []
  },
  {
   "cell_type": "code",
   "execution_count": null,
   "metadata": {},
   "outputs": [],
   "source": []
  },
  {
   "cell_type": "code",
   "execution_count": null,
   "metadata": {},
   "outputs": [],
   "source": []
  },
  {
   "cell_type": "code",
   "execution_count": null,
   "metadata": {},
   "outputs": [],
   "source": []
  }
 ],
 "metadata": {
  "kernelspec": {
   "display_name": "Python 3",
   "language": "python",
   "name": "python3"
  },
  "language_info": {
   "codemirror_mode": {
    "name": "ipython",
    "version": 3
   },
   "file_extension": ".py",
   "mimetype": "text/x-python",
   "name": "python",
   "nbconvert_exporter": "python",
   "pygments_lexer": "ipython3",
   "version": "3.7.3"
  }
 },
 "nbformat": 4,
 "nbformat_minor": 2
}
